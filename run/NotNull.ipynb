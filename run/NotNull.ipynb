{
 "cells": [
  {
   "cell_type": "code",
   "execution_count": 2,
   "metadata": {},
   "outputs": [
    {
     "name": "stdout",
     "output_type": "stream",
     "text": [
      "Non-null counts exported to non_null_counts_horizontal.csv successfully.\n"
     ]
    }
   ],
   "source": [
    "import pandas as pd\n",
    "\n",
    "# Load the CSV file\n",
    "df = pd.read_csv('Customer.csv')\n",
    "\n",
    "\n",
    "# Count non-null cells for each column\n",
    "non_null_counts = df.notnull().sum()\n",
    "\n",
    "# Convert to DataFrame and transpose it\n",
    "non_null_df = pd.DataFrame(non_null_counts).T  # Transpose to make it horizontal\n",
    "\n",
    "# Export the result to a new CSV file\n",
    "non_null_df.to_csv('non_null_counts_horizontal.csv', index=False)\n",
    "\n",
    "print(\"Non-null counts exported to non_null_counts_horizontal.csv successfully.\")"
   ]
  },
  {
   "cell_type": "code",
   "execution_count": 3,
   "metadata": {},
   "outputs": [
    {
     "name": "stdout",
     "output_type": "stream",
     "text": [
      "Non-null counts exported to non_null_counts_horizontal.csv successfully.\n"
     ]
    }
   ],
   "source": [
    "import pandas as pd\n",
    "\n",
    "# Load the CSV file\n",
    "df = pd.read_csv('CustomerContactPoint.csv')\n",
    "\n",
    "\n",
    "# Count non-null cells for each column\n",
    "non_null_counts = df.notnull().sum()\n",
    "\n",
    "# Convert to DataFrame and transpose it\n",
    "non_null_df = pd.DataFrame(non_null_counts).T  # Transpose to make it horizontal\n",
    "\n",
    "# Export the result to a new CSV file\n",
    "non_null_df.to_csv('non_null_counts_horizontal_CustomerContactPoint.csv', index=False)\n",
    "\n",
    "print(\"Non-null counts exported to non_null_counts_horizontal.csv successfully.\")"
   ]
  }
 ],
 "metadata": {
  "kernelspec": {
   "display_name": "Python 3",
   "language": "python",
   "name": "python3"
  },
  "language_info": {
   "codemirror_mode": {
    "name": "ipython",
    "version": 3
   },
   "file_extension": ".py",
   "mimetype": "text/x-python",
   "name": "python",
   "nbconvert_exporter": "python",
   "pygments_lexer": "ipython3",
   "version": "3.11.9"
  }
 },
 "nbformat": 4,
 "nbformat_minor": 2
}
