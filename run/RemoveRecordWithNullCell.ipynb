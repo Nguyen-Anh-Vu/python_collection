{
 "cells": [
  {
   "cell_type": "code",
   "execution_count": 1,
   "metadata": {},
   "outputs": [
    {
     "name": "stdout",
     "output_type": "stream",
     "text": [
      "Records with null areaId have been removed and saved to the new CSV file.\n"
     ]
    }
   ],
   "source": [
    "import pandas as pd\n",
    "\n",
    "# Step 1: Read the CSV file\n",
    "csv_file = '../assets/modified_addressWithCity_with_area.csv'  # Replace with your local CSV file path\n",
    "df = pd.read_csv(csv_file)\n",
    "\n",
    "# Step 2: Remove rows where areaId is null\n",
    "df_cleaned = df[df['areaId'].notna()]  # Keep rows where areaId is not null\n",
    "\n",
    "# Step 3: Save the cleaned DataFrame to a new CSV file\n",
    "cleaned_csv_file = '../assets/cleaned_addressWithCity_with_area.csv'  # Specify the output file path\n",
    "df_cleaned.to_csv(cleaned_csv_file, index=False)\n",
    "\n",
    "print(\"Records with null areaId have been removed and saved to the new CSV file.\")\n"
   ]
  }
 ],
 "metadata": {
  "kernelspec": {
   "display_name": "Python 3",
   "language": "python",
   "name": "python3"
  },
  "language_info": {
   "codemirror_mode": {
    "name": "ipython",
    "version": 3
   },
   "file_extension": ".py",
   "mimetype": "text/x-python",
   "name": "python",
   "nbconvert_exporter": "python",
   "pygments_lexer": "ipython3",
   "version": "3.11.9"
  }
 },
 "nbformat": 4,
 "nbformat_minor": 2
}
