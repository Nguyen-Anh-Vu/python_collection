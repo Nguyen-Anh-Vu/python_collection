{
 "cells": [
  {
   "cell_type": "code",
   "execution_count": 5,
   "metadata": {},
   "outputs": [
    {
     "name": "stdout",
     "output_type": "stream",
     "text": [
      "Customer table updated successfully!\n"
     ]
    }
   ],
   "source": [
    "import pandas as pd\n",
    "import psycopg2\n",
    "\n",
    "# Step 1: Read the CSV file\n",
    "csv_file = '../assets/addressWithCity.csv'  # Replace with your local CSV file path\n",
    "csv_data = pd.read_csv(csv_file)\n",
    "\n",
    "# Step 2: Connect to PostgreSQL\n",
    "try:\n",
    "    connection = psycopg2.connect(\n",
    "        user = 'postgres',\n",
    "        password = 'nhfjhf6657hgFD',\n",
    "        host = '45.117.171.41',\n",
    "        port = '5432',  # Default PostgreSQL port\n",
    "        database = 'db_pima'\n",
    "    )\n",
    "    cursor = connection.cursor()\n",
    "\n",
    "    # Step 3: Iterate over each row in the CSV and update the Customer table\n",
    "    for index, row in csv_data.iterrows():\n",
    "        customer_id = row['id']\n",
    "        city_value = row['city']\n",
    "        \n",
    "        # Step 4: Update the city in the Customer table based on the id\n",
    "        query = \"\"\"\n",
    "        UPDATE public.\"Customer\"\n",
    "        SET city = %s\n",
    "        WHERE id = %s;\n",
    "        \"\"\"\n",
    "        cursor.execute(query, (city_value, customer_id))\n",
    "\n",
    "    # Commit the transaction\n",
    "    connection.commit()\n",
    "\n",
    "    print(\"Customer table updated successfully!\")\n",
    "\n",
    "except Exception as error:\n",
    "    print(\"Error updating Customer table:\", error)\n",
    "\n",
    "finally:\n",
    "    # Step 5: Close the connection\n",
    "    if connection:\n",
    "        cursor.close()\n",
    "        connection.close()\n"
   ]
  }
 ],
 "metadata": {
  "kernelspec": {
   "display_name": "Python 3",
   "language": "python",
   "name": "python3"
  },
  "language_info": {
   "codemirror_mode": {
    "name": "ipython",
    "version": 3
   },
   "file_extension": ".py",
   "mimetype": "text/x-python",
   "name": "python",
   "nbconvert_exporter": "python",
   "pygments_lexer": "ipython3",
   "version": "3.11.9"
  }
 },
 "nbformat": 4,
 "nbformat_minor": 2
}
