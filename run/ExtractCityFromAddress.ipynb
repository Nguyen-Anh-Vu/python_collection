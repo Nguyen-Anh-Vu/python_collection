{
 "cells": [
  {
   "cell_type": "code",
   "execution_count": 1,
   "metadata": {},
   "outputs": [
    {
     "name": "stdout",
     "output_type": "stream",
     "text": [
      "File updated successfully: ../assets/addressWithCity.csv\n"
     ]
    }
   ],
   "source": [
    "import pandas as pd\n",
    "\n",
    "# Step 1: Read the CSV file into a pandas DataFrame\n",
    "input_file = '../assets/addressWithNullCity.csv'  # Replace with your file path\n",
    "df = pd.read_csv(input_file)\n",
    "\n",
    "# Step 2: Extract the string after the last comma in 'address' and replace 'city' column\n",
    "df['city'] = df['address'].apply(lambda x: x.split(',')[-1].strip() if pd.notnull(x) and ',' in x else '')\n",
    "\n",
    "# Step 3: Save the modified DataFrame to a new CSV file\n",
    "output_file = '../assets/addressWithCity.csv'  # Output file path\n",
    "df.to_csv(output_file, index=False)\n",
    "\n",
    "print(\"File updated successfully:\", output_file)\n"
   ]
  }
 ],
 "metadata": {
  "kernelspec": {
   "display_name": "Python 3",
   "language": "python",
   "name": "python3"
  },
  "language_info": {
   "codemirror_mode": {
    "name": "ipython",
    "version": 3
   },
   "file_extension": ".py",
   "mimetype": "text/x-python",
   "name": "python",
   "nbconvert_exporter": "python",
   "pygments_lexer": "ipython3",
   "version": "3.11.9"
  }
 },
 "nbformat": 4,
 "nbformat_minor": 2
}
