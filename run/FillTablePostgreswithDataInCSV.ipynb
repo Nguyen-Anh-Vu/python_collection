{
 "cells": [
  {
   "cell_type": "code",
   "execution_count": 2,
   "metadata": {},
   "outputs": [],
   "source": [
    "import pandas as pd\n",
    "from sqlalchemy import create_engine\n",
    "\n",
    "# Define your database connection parameters\n",
    "db_user = 'postgres'\n",
    "db_password = 'nhfjhf6657hgFD'\n",
    "db_host = '45.117.171.41'\n",
    "db_port = '5432'  # Default PostgreSQL port\n",
    "db_name = 'db_pima'\n",
    "\n",
    "# Create a database connection\n",
    "engine = create_engine(f'postgresql://{db_user}:{db_password}@{db_host}:{db_port}/{db_name}')\n",
    "\n",
    "# Read the CSV file\n",
    "df = pd.read_csv('cleaned_email6.csv')\n",
    "\n",
    "# Check if the dataframe has the required columns\n",
    "if 'id' not in df.columns or 'email' not in df.columns:\n",
    "    print(\"CSV must contain 'id' and 'email' columns.\")\n",
    "else:\n",
    "    # Load data into the EmailClean table\n",
    "    df.to_sql('EmailClean', engine, if_exists='replace', index=False)\n",
    "\n",
    "    print(\"Data loaded into EmailClean successfully.\")"
   ]
  },
  {
   "cell_type": "code",
   "execution_count": 4,
   "metadata": {},
   "outputs": [
    {
     "name": "stdout",
     "output_type": "stream",
     "text": [
      "Data loaded into EmailClean successfully.\n"
     ]
    }
   ],
   "source": [
    "import pandas as pd\n",
    "from sqlalchemy import create_engine\n",
    "\n",
    "# Define your database connection parameters\n",
    "db_user = 'postgres'\n",
    "db_password = 'nhfjhf6657hgFD'\n",
    "db_host = '45.117.171.41'\n",
    "db_port = '5432'  # Default PostgreSQL port\n",
    "db_name = 'db_pima'\n",
    "\n",
    "# Create a database connection\n",
    "engine = create_engine(f'postgresql://{db_user}:{db_password}@{db_host}:{db_port}/{db_name}')\n",
    "\n",
    "# Read the CSV file\n",
    "df = pd.read_csv('notnull.csv')\n",
    "\n",
    "# Check if the dataframe has the required columns\n",
    "if 'id' not in df.columns or 'email' not in df.columns:\n",
    "    print(\"CSV must contain 'id' and 'email' columns.\")\n",
    "else:\n",
    "    # Load data into the EmailClean table\n",
    "    df.to_sql('CustomerNull', engine, if_exists='replace', index=False)\n",
    "\n",
    "    print(\"Data loaded into EmailClean successfully.\")"
   ]
  }
 ],
 "metadata": {
  "kernelspec": {
   "display_name": "Python 3",
   "language": "python",
   "name": "python3"
  },
  "language_info": {
   "codemirror_mode": {
    "name": "ipython",
    "version": 3
   },
   "file_extension": ".py",
   "mimetype": "text/x-python",
   "name": "python",
   "nbconvert_exporter": "python",
   "pygments_lexer": "ipython3",
   "version": "3.11.9"
  }
 },
 "nbformat": 4,
 "nbformat_minor": 2
}
